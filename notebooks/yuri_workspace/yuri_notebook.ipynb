{
 "cells": [
  {
   "cell_type": "code",
   "execution_count": 33,
   "metadata": {},
   "outputs": [],
   "source": [
    "import sys\n",
    "import numpy as np\n",
    "import pandas as pd\n",
    "import seaborn as sns\n",
    "from pathlib import Path\n",
    "from PIL import Image\n",
    "import matplotlib.pyplot as plt\n",
    "import cv2"
   ]
  },
  {
   "cell_type": "code",
   "execution_count": 3,
   "metadata": {},
   "outputs": [
    {
     "name": "stdout",
     "output_type": "stream",
     "text": [
      "/home/yuri/github.com/AoesJP/project_pokereader/notebooks\n"
     ]
    }
   ],
   "source": [
    "! pwd"
   ]
  },
  {
   "cell_type": "code",
   "execution_count": 4,
   "metadata": {},
   "outputs": [
    {
     "data": {
      "text/plain": [
       "PosixPath('/home/yuri/github.com/AoesJP/project_pokereader')"
      ]
     },
     "execution_count": 4,
     "metadata": {},
     "output_type": "execute_result"
    }
   ],
   "source": [
    "PROJECT_PATH = Path(\".\").absolute().parent\n",
    "PROJECT_PATH"
   ]
  },
  {
   "cell_type": "code",
   "execution_count": 38,
   "metadata": {},
   "outputs": [
    {
     "data": {
      "text/plain": [
       "'/home/yuri/github.com/AoesJP/project_pokereader/data/rectangles.png'"
      ]
     },
     "execution_count": 38,
     "metadata": {},
     "output_type": "execute_result"
    }
   ],
   "source": [
    "# img_path = str(PROJECT_PATH / \"data/charizard.png\")\n",
    "img_path = str(PROJECT_PATH / \"data/rectangles.png\")\n",
    "img_path"
   ]
  },
  {
   "cell_type": "code",
   "execution_count": 39,
   "metadata": {},
   "outputs": [],
   "source": [
    "BKG_THRESH = 60\n",
    "CARD_MAX_AREA = 120000\n",
    "CARD_MIN_AREA = 25000\n",
    "font = cv2.FONT_HERSHEY_SIMPLEX"
   ]
  },
  {
   "cell_type": "code",
   "execution_count": 40,
   "metadata": {},
   "outputs": [],
   "source": [
    "def preprocess_image(image):\n",
    "    \"\"\"Returns a grayed, blurred, and adaptively thresholded camera image.\"\"\"\n",
    "\n",
    "    gray = cv2.cvtColor(image, cv2.COLOR_BGR2GRAY)\n",
    "    blur = cv2.GaussianBlur(gray, (5, 5), 0)\n",
    "\n",
    "    # The best threshold level depends on the ambient lighting conditions.\n",
    "    # For bright lighting, a high threshold must be used to isolate the cards\n",
    "    # from the background. For dim lighting, a low threshold must be used.\n",
    "    # To make the card detector independent of lighting conditions, the\n",
    "    # following adaptive threshold method is used.\n",
    "    #\n",
    "    # A background pixel in the center top of the image is sampled to determine\n",
    "    # its intensity. The adaptive threshold is set at 50 (THRESH_ADDER) higher\n",
    "    # than that. This allows the threshold to adapt to the lighting conditions.\n",
    "    img_w, img_h = np.shape(image)[:2]\n",
    "    bkg_level = gray[int(img_h / 100)][int(img_w / 2)]\n",
    "    thresh_level = bkg_level + BKG_THRESH\n",
    "\n",
    "    retval, thresh = cv2.threshold(blur, thresh_level, 255, cv2.THRESH_BINARY)\n",
    "\n",
    "    return thresh"
   ]
  },
  {
   "cell_type": "code",
   "execution_count": 41,
   "metadata": {},
   "outputs": [],
   "source": [
    "def find_cards(thresh_image):\n",
    "    \"\"\"Finds all card-sized contours in a thresholded camera image.\n",
    "    Returns the number of cards, and a list of card contours sorted\n",
    "    from largest to smallest.\"\"\"\n",
    "\n",
    "    # Find contours and sort their indices by contour size\n",
    "    # dummy, cnts, hier = cv2.findContours(thresh_image, cv2.RETR_TREE, cv2.CHAIN_APPROX_SIMPLE)\n",
    "    cnts, hier = cv2.findContours(thresh_image, cv2.RETR_TREE, cv2.CHAIN_APPROX_SIMPLE)\n",
    "    index_sort = sorted(range(len(cnts)), key=lambda i: cv2.contourArea(cnts[i]), reverse=True)\n",
    "\n",
    "    # If there are no contours, do nothing\n",
    "    if len(cnts) == 0:\n",
    "        return [], []\n",
    "\n",
    "    # Otherwise, initialize empty sorted contour and hierarchy lists\n",
    "    cnts_sort = []\n",
    "    hier_sort = []\n",
    "    cnt_is_card = np.zeros(len(cnts), dtype=int)\n",
    "\n",
    "    # Fill empty lists with sorted contour and sorted hierarchy. Now,\n",
    "    # the indices of the contour list still correspond with those of\n",
    "    # the hierarchy list. The hierarchy array can be used to check if\n",
    "    # the contours have parents or not.\n",
    "    for i in index_sort:\n",
    "        cnts_sort.append(cnts[i])\n",
    "        hier_sort.append(hier[0][i])\n",
    "\n",
    "    # Determine which of the contours are cards by applying the\n",
    "    # following criteria: 1) Smaller area than the maximum card size,\n",
    "    # 2), bigger area than the minimum card size, 3) have no parents,\n",
    "    # and 4) have four corners\n",
    "\n",
    "    for i in range(len(cnts_sort)):\n",
    "        size = cv2.contourArea(cnts_sort[i])\n",
    "        peri = cv2.arcLength(cnts_sort[i], True)\n",
    "        approx = cv2.approxPolyDP(cnts_sort[i], 0.01 * peri, True)\n",
    "\n",
    "        if (\n",
    "            (size < CARD_MAX_AREA)\n",
    "            and (size > CARD_MIN_AREA)\n",
    "            and (hier_sort[i][3] == -1)\n",
    "            and (len(approx) == 4)\n",
    "        ):\n",
    "            cnt_is_card[i] = 1\n",
    "\n",
    "    return cnts_sort, cnt_is_card"
   ]
  },
  {
   "cell_type": "code",
   "execution_count": 42,
   "metadata": {},
   "outputs": [],
   "source": [
    "def draw_results(image, qCard):\n",
    "    \"\"\"Draw the card name, center point, and contour on the camera image.\"\"\"\n",
    "\n",
    "    x = qCard.center[0]\n",
    "    y = qCard.center[1]\n",
    "    cv2.circle(image, (x, y), 5, (255, 0, 0), -1)\n",
    "\n",
    "    rank_name = qCard.best_rank_match\n",
    "    suit_name = qCard.best_suit_match\n",
    "\n",
    "    # Draw card name twice, so letters have black outline\n",
    "    cv2.putText(image, (rank_name + \" of\"), (x - 60, y - 10), font, 1, (0, 0, 0), 3, cv2.LINE_AA)\n",
    "    cv2.putText(\n",
    "        image, (rank_name + \" of\"), (x - 60, y - 10), font, 1, (50, 200, 200), 2, cv2.LINE_AA\n",
    "    )\n",
    "\n",
    "    cv2.putText(image, suit_name, (x - 60, y + 25), font, 1, (0, 0, 0), 3, cv2.LINE_AA)\n",
    "    cv2.putText(image, suit_name, (x - 60, y + 25), font, 1, (50, 200, 200), 2, cv2.LINE_AA)\n",
    "\n",
    "    # Can draw difference value for troubleshooting purposes\n",
    "    # (commented out during normal operation)\n",
    "    # r_diff = str(qCard.rank_diff)\n",
    "    # s_diff = str(qCard.suit_diff)\n",
    "    # cv2.putText(image,r_diff,(x+20,y+30),font,0.5,(0,0,255),1,cv2.LINE_AA)\n",
    "    # cv2.putText(image,s_diff,(x+20,y+50),font,0.5,(0,0,255),1,cv2.LINE_AA)\n",
    "\n",
    "    return image"
   ]
  },
  {
   "cell_type": "code",
   "execution_count": 10,
   "metadata": {},
   "outputs": [],
   "source": [
    "def preprocess_card(contour, image):\n",
    "    \"\"\"Uses contour to find information about the query card. Isolates rank\n",
    "    and suit images from the card.\"\"\"\n",
    "\n",
    "    # Initialize new Query_card object\n",
    "    qCard = Query_card()\n",
    "\n",
    "    qCard.contour = contour\n",
    "\n",
    "    # Find perimeter of card and use it to approximate corner points\n",
    "    peri = cv2.arcLength(contour, True)\n",
    "    approx = cv2.approxPolyDP(contour, 0.01 * peri, True)\n",
    "    pts = np.float32(approx)\n",
    "    qCard.corner_pts = pts\n",
    "\n",
    "    # Find width and height of card's bounding rectangle\n",
    "    x, y, w, h = cv2.boundingRect(contour)\n",
    "    qCard.width, qCard.height = w, h\n",
    "\n",
    "    # Find center point of card by taking x and y average of the four corners.\n",
    "    average = np.sum(pts, axis=0) / len(pts)\n",
    "    cent_x = int(average[0][0])\n",
    "    cent_y = int(average[0][1])\n",
    "    qCard.center = [cent_x, cent_y]\n",
    "\n",
    "    # Warp card into 200x300 flattened image using perspective transform\n",
    "    qCard.warp = flattener(image, pts, w, h)\n",
    "\n",
    "    # Grab corner of warped card image and do a 4x zoom\n",
    "    Qcorner = qCard.warp[0:CORNER_HEIGHT, 0:CORNER_WIDTH]\n",
    "    Qcorner_zoom = cv2.resize(Qcorner, (0, 0), fx=4, fy=4)\n",
    "\n",
    "    # Sample known white pixel intensity to determine good threshold level\n",
    "    white_level = Qcorner_zoom[15, int((CORNER_WIDTH * 4) / 2)]\n",
    "    thresh_level = white_level - CARD_THRESH\n",
    "    if thresh_level <= 0:\n",
    "        thresh_level = 1\n",
    "    retval, query_thresh = cv2.threshold(Qcorner_zoom, thresh_level, 255, cv2.THRESH_BINARY_INV)\n",
    "\n",
    "    # Split in to top and bottom half (top shows rank, bottom shows suit)\n",
    "    Qrank = query_thresh[20:185, 0:128]\n",
    "    Qsuit = query_thresh[186:336, 0:128]\n",
    "\n",
    "    # Find rank contour and bounding rectangle, isolate and find largest contour\n",
    "    dummy, Qrank_cnts, hier = cv2.findContours(Qrank, cv2.RETR_TREE, cv2.CHAIN_APPROX_SIMPLE)\n",
    "    Qrank_cnts = sorted(Qrank_cnts, key=cv2.contourArea, reverse=True)\n",
    "\n",
    "    # Find bounding rectangle for largest contour, use it to resize query rank\n",
    "    # image to match dimensions of the train rank image\n",
    "    if len(Qrank_cnts) != 0:\n",
    "        x1, y1, w1, h1 = cv2.boundingRect(Qrank_cnts[0])\n",
    "        Qrank_roi = Qrank[y1 : y1 + h1, x1 : x1 + w1]\n",
    "        Qrank_sized = cv2.resize(Qrank_roi, (RANK_WIDTH, RANK_HEIGHT), 0, 0)\n",
    "        qCard.rank_img = Qrank_sized\n",
    "\n",
    "    # Find suit contour and bounding rectangle, isolate and find largest contour\n",
    "    dummy, Qsuit_cnts, hier = cv2.findContours(Qsuit, cv2.RETR_TREE, cv2.CHAIN_APPROX_SIMPLE)\n",
    "    Qsuit_cnts = sorted(Qsuit_cnts, key=cv2.contourArea, reverse=True)\n",
    "\n",
    "    # Find bounding rectangle for largest contour, use it to resize query suit\n",
    "    # image to match dimensions of the train suit image\n",
    "    if len(Qsuit_cnts) != 0:\n",
    "        x2, y2, w2, h2 = cv2.boundingRect(Qsuit_cnts[0])\n",
    "        Qsuit_roi = Qsuit[y2 : y2 + h2, x2 : x2 + w2]\n",
    "        Qsuit_sized = cv2.resize(Qsuit_roi, (SUIT_WIDTH, SUIT_HEIGHT), 0, 0)\n",
    "        qCard.suit_img = Qsuit_sized\n",
    "\n",
    "    return qCard"
   ]
  },
  {
   "cell_type": "code",
   "execution_count": 43,
   "metadata": {},
   "outputs": [
    {
     "data": {
      "text/plain": [
       "'/home/yuri/github.com/AoesJP/project_pokereader/data/rectangles.png'"
      ]
     },
     "execution_count": 43,
     "metadata": {},
     "output_type": "execute_result"
    }
   ],
   "source": [
    "img_path"
   ]
  },
  {
   "cell_type": "code",
   "execution_count": 44,
   "metadata": {},
   "outputs": [
    {
     "data": {
      "text/plain": [
       "<matplotlib.image.AxesImage at 0x7f12ec32a5f0>"
      ]
     },
     "execution_count": 44,
     "metadata": {},
     "output_type": "execute_result"
    },
    {
     "data": {
      "image/png": "[encoded data removed]",
      "text/plain": [
       "<Figure size 640x480 with 1 Axes>"
      ]
     },
     "metadata": {},
     "output_type": "display_data"
    }
   ],
   "source": [
    "img = cv2.imread(img_path)\n",
    "img = cv2.cvtColor(img, cv2.COLOR_BGR2RGB)\n",
    "plt.imshow(img)"
   ]
  },
  {
   "cell_type": "code",
   "execution_count": 45,
   "metadata": {},
   "outputs": [
    {
     "data": {
      "text/plain": [
       "<matplotlib.image.AxesImage at 0x7f12ec1c1b40>"
      ]
     },
     "execution_count": 45,
     "metadata": {},
     "output_type": "execute_result"
    },
    {
     "data": {
      "image/png": "[encoded data removed]",
      "text/plain": [
       "<Figure size 640x480 with 1 Axes>"
      ]
     },
     "metadata": {},
     "output_type": "display_data"
    }
   ],
   "source": [
    "# gray = cv2.cvtColor(img, cv2.COLOR_BGR2GRAY)\n",
    "gray = img[:, :, 0]\n",
    "plt.imshow(gray, cmap=\"grey\")"
   ]
  },
  {
   "cell_type": "code",
   "execution_count": 46,
   "metadata": {},
   "outputs": [],
   "source": [
    "blur = cv2.GaussianBlur(gray, (5, 5), 0)"
   ]
  },
  {
   "cell_type": "code",
   "execution_count": 47,
   "metadata": {},
   "outputs": [
    {
     "data": {
      "text/plain": [
       "<matplotlib.image.AxesImage at 0x7f12ec231e10>"
      ]
     },
     "execution_count": 47,
     "metadata": {},
     "output_type": "execute_result"
    },
    {
     "data": {
      "image/png": "[encoded data removed]",
      "text/plain": [
       "<Figure size 640x480 with 1 Axes>"
      ]
     },
     "metadata": {},
     "output_type": "display_data"
    }
   ],
   "source": [
    "retval, thresh = cv2.threshold(blur, 125, 255, cv2.THRESH_BINARY)\n",
    "plt.imshow(thresh, cmap=\"grey\")"
   ]
  },
  {
   "cell_type": "code",
   "execution_count": 48,
   "metadata": {},
   "outputs": [
    {
     "data": {
      "text/plain": [
       "<Axes: xlabel='x', ylabel='y'>"
      ]
     },
     "execution_count": 48,
     "metadata": {},
     "output_type": "execute_result"
    },
    {
     "data": {
      "image/png": "[encoded data removed]",
      "text/plain": [
       "<Figure size 640x480 with 1 Axes>"
      ]
     },
     "metadata": {},
     "output_type": "display_data"
    }
   ],
   "source": [
    "corners = cv2.goodFeaturesToTrack(thresh, 100, 0.01, 50)\n",
    "cors = []\n",
    "for corner in corners:\n",
    "    x, y = corner[0]\n",
    "    cors.append([x, y])\n",
    "\n",
    "cors = pd.DataFrame(cors, columns=[\"x\", \"y\"])\n",
    "sns.scatterplot(cors, x=\"x\", y=\"y\")\n",
    "# for corner in corners:\n",
    "#     x, y = corner[0]\n",
    "#     x = int(x)\n",
    "#     y = int(y)\n",
    "#     cv2.rectangle(img, (x - 10, y - 10), (x + 10, y + 10), (255, 0, 0), -1)\n",
    "\n",
    "\n",
    "# cv2.imwrite('Corner_detected_rectangles.png', img)\n",
    "# cv2.imshow(thresh)"
   ]
  },
  {
   "cell_type": "code",
   "execution_count": 69,
   "metadata": {},
   "outputs": [
    {
     "ename": "error",
     "evalue": "OpenCV(4.9.0) /io/opencv/modules/imgproc/src/color.simd_helpers.hpp:92: error: (-2:Unspecified error) in function 'cv::impl::{anonymous}::CvtHelper<VScn, VDcn, VDepth, sizePolicy>::CvtHelper(cv::InputArray, cv::OutputArray, int) [with VScn = cv::impl::{anonymous}::Set<3, 4>; VDcn = cv::impl::{anonymous}::Set<1>; VDepth = cv::impl::{anonymous}::Set<0, 2, 5>; cv::impl::{anonymous}::SizePolicy sizePolicy = cv::impl::<unnamed>::NONE; cv::InputArray = const cv::_InputArray&; cv::OutputArray = const cv::_OutputArray&]'\n> Invalid number of channels in input image:\n>     'VScn::contains(scn)'\n> where\n>     'scn' is 1\n",
     "output_type": "error",
     "traceback": [
      "\u001b[0;31m---------------------------------------------------------------------------\u001b[0m",
      "\u001b[0;31merror\u001b[0m                                     Traceback (most recent call last)",
      "Cell \u001b[0;32mIn[69], line 1\u001b[0m\n\u001b[0;32m----> 1\u001b[0m preproc_img \u001b[38;5;241m=\u001b[39m \u001b[43mpreprocess_image\u001b[49m\u001b[43m(\u001b[49m\u001b[43mgray\u001b[49m\u001b[43m)\u001b[49m\n\u001b[1;32m      2\u001b[0m plt\u001b[38;5;241m.\u001b[39mimshow(preproc_img, cmap\u001b[38;5;241m=\u001b[39m\u001b[38;5;124m\"\u001b[39m\u001b[38;5;124mgrey\u001b[39m\u001b[38;5;124m\"\u001b[39m)\n",
      "Cell \u001b[0;32mIn[39], line 4\u001b[0m, in \u001b[0;36mpreprocess_image\u001b[0;34m(image)\u001b[0m\n\u001b[1;32m      1\u001b[0m \u001b[38;5;28;01mdef\u001b[39;00m \u001b[38;5;21mpreprocess_image\u001b[39m(image):\n\u001b[1;32m      2\u001b[0m \u001b[38;5;250m    \u001b[39m\u001b[38;5;124;03m\"\"\"Returns a grayed, blurred, and adaptively thresholded camera image.\"\"\"\u001b[39;00m\n\u001b[0;32m----> 4\u001b[0m     gray \u001b[38;5;241m=\u001b[39m \u001b[43mcv2\u001b[49m\u001b[38;5;241;43m.\u001b[39;49m\u001b[43mcvtColor\u001b[49m\u001b[43m(\u001b[49m\u001b[43mimage\u001b[49m\u001b[43m,\u001b[49m\u001b[43m \u001b[49m\u001b[43mcv2\u001b[49m\u001b[38;5;241;43m.\u001b[39;49m\u001b[43mCOLOR_BGR2GRAY\u001b[49m\u001b[43m)\u001b[49m\n\u001b[1;32m      5\u001b[0m     blur \u001b[38;5;241m=\u001b[39m cv2\u001b[38;5;241m.\u001b[39mGaussianBlur(gray, (\u001b[38;5;241m5\u001b[39m, \u001b[38;5;241m5\u001b[39m), \u001b[38;5;241m0\u001b[39m)\n\u001b[1;32m      7\u001b[0m     \u001b[38;5;66;03m# The best threshold level depends on the ambient lighting conditions.\u001b[39;00m\n\u001b[1;32m      8\u001b[0m     \u001b[38;5;66;03m# For bright lighting, a high threshold must be used to isolate the cards\u001b[39;00m\n\u001b[1;32m      9\u001b[0m     \u001b[38;5;66;03m# from the background. For dim lighting, a low threshold must be used.\u001b[39;00m\n\u001b[0;32m   (...)\u001b[0m\n\u001b[1;32m     14\u001b[0m     \u001b[38;5;66;03m# its intensity. The adaptive threshold is set at 50 (THRESH_ADDER) higher\u001b[39;00m\n\u001b[1;32m     15\u001b[0m     \u001b[38;5;66;03m# than that. This allows the threshold to adapt to the lighting conditions.\u001b[39;00m\n",
      "\u001b[0;31merror\u001b[0m: OpenCV(4.9.0) /io/opencv/modules/imgproc/src/color.simd_helpers.hpp:92: error: (-2:Unspecified error) in function 'cv::impl::{anonymous}::CvtHelper<VScn, VDcn, VDepth, sizePolicy>::CvtHelper(cv::InputArray, cv::OutputArray, int) [with VScn = cv::impl::{anonymous}::Set<3, 4>; VDcn = cv::impl::{anonymous}::Set<1>; VDepth = cv::impl::{anonymous}::Set<0, 2, 5>; cv::impl::{anonymous}::SizePolicy sizePolicy = cv::impl::<unnamed>::NONE; cv::InputArray = const cv::_InputArray&; cv::OutputArray = const cv::_OutputArray&]'\n> Invalid number of channels in input image:\n>     'VScn::contains(scn)'\n> where\n>     'scn' is 1\n"
     ]
    }
   ],
   "source": [
    "preproc_img = preprocess_image(img)\n",
    "plt.imshow(preproc_img, cmap=\"grey\")"
   ]
  },
  {
   "cell_type": "code",
   "execution_count": 52,
   "metadata": {},
   "outputs": [
    {
     "data": {
      "text/plain": [
       "array([[0, 0, 0, ..., 0, 0, 0],\n",
       "       [0, 0, 0, ..., 0, 0, 0],\n",
       "       [0, 0, 0, ..., 0, 0, 0],\n",
       "       ...,\n",
       "       [0, 0, 0, ..., 0, 0, 0],\n",
       "       [0, 0, 0, ..., 0, 0, 0],\n",
       "       [0, 0, 0, ..., 0, 0, 0]], dtype=uint8)"
      ]
     },
     "execution_count": 52,
     "metadata": {},
     "output_type": "execute_result"
    }
   ],
   "source": [
    "preproc_img"
   ]
  },
  {
   "cell_type": "code",
   "execution_count": 76,
   "metadata": {},
   "outputs": [],
   "source": [
    "cnts, hier = cv2.findContours(thresh, cv2.RETR_TREE, cv2.CHAIN_APPROX_SIMPLE)"
   ]
  },
  {
   "cell_type": "code",
   "execution_count": 61,
   "metadata": {},
   "outputs": [
    {
     "data": {
      "text/plain": [
       "array([[[ -1,  -1,   1,  -1],\n",
       "        [  2,  -1,  -1,   0],\n",
       "        [  3,   1,  -1,   0],\n",
       "        ...,\n",
       "        [ -1,  -1,  -1, 250],\n",
       "        [253, 246,  -1, 107],\n",
       "        [ -1, 252,  -1, 107]]], dtype=int32)"
      ]
     },
     "execution_count": 61,
     "metadata": {},
     "output_type": "execute_result"
    }
   ],
   "source": [
    "hier"
   ]
  },
  {
   "cell_type": "code",
   "execution_count": null,
   "metadata": {},
   "outputs": [],
   "source": []
  },
  {
   "cell_type": "code",
   "execution_count": 54,
   "metadata": {},
   "outputs": [],
   "source": [
    "cnts_sort, cnt_is_card = find_cards(preproc_img)"
   ]
  },
  {
   "cell_type": "code",
   "execution_count": null,
   "metadata": {},
   "outputs": [],
   "source": [
    "if len(cnts_sort) != 0:\n",
    "    # Initialize a new \"cards\" list to assign the card objects.\n",
    "    # k indexes the newly made array of cards.\n",
    "    cards = []\n",
    "    k = 0\n",
    "\n",
    "    # For each contour detected:\n",
    "    for i in range(len(cnts_sort)):\n",
    "        if cnt_is_card[i] == 1:\n",
    "            # Create a card object from the contour and append it to the list of cards.\n",
    "            # preprocess_card function takes the card contour and contour and\n",
    "            # determines the cards properties (corner points, etc). It generates a\n",
    "            # flattened 200x300 image of the card, and isolates the card's\n",
    "            # suit and rank from the image.\n",
    "            cards.append(preprocess_card(cnts_sort[i], image))\n",
    "\n",
    "            # Find the best rank and suit match for the card.\n",
    "            (\n",
    "                cards[k].best_rank_match,\n",
    "                cards[k].best_suit_match,\n",
    "                cards[k].rank_diff,\n",
    "                cards[k].suit_diff,\n",
    "            ) = Cards.match_card(cards[k], train_ranks, train_suits)\n",
    "\n",
    "            # Draw center point and match result on the image.\n",
    "            image = draw_results(image, cards[k])\n",
    "            k = k + 1"
   ]
  }
 ],
 "metadata": {
  "kernelspec": {
   "display_name": "project_pokereader",
   "language": "python",
   "name": "python3"
  },
  "language_info": {
   "codemirror_mode": {
    "name": "ipython",
    "version": 3
   },
   "file_extension": ".py",
   "mimetype": "text/x-python",
   "name": "python",
   "nbconvert_exporter": "python",
   "pygments_lexer": "ipython3",
   "version": "3.10.6"
  }
 },
 "nbformat": 4,
 "nbformat_minor": 2
}

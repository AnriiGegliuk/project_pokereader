{
 "cells": [
  {
   "cell_type": "markdown",
   "metadata": {},
   "source": [
    "# This is Estelle's notebook no.2"
   ]
  },
  {
   "cell_type": "code",
   "execution_count": 1,
   "metadata": {},
   "outputs": [],
   "source": [
    "%load_ext autoreload\n",
    "%autoreload 2"
   ]
  },
  {
   "cell_type": "code",
   "execution_count": 2,
   "metadata": {},
   "outputs": [],
   "source": [
    "import cv2\n",
    "# import pytesseract\n",
    "\n",
    "import requests\n",
    "from bs4 import BeautifulSoup\n",
    "import httpx\n",
    "\n",
    "import matplotlib.pyplot as plt\n",
    "import numpy as np\n",
    "import pandas as pd\n",
    "import csv\n",
    "\n",
    "from sklearn.utils import shuffle"
   ]
  },
  {
   "cell_type": "code",
   "execution_count": 3,
   "metadata": {},
   "outputs": [],
   "source": [
    "from PIL import Image\n",
    "from io import BytesIO"
   ]
  },
  {
   "cell_type": "code",
   "execution_count": 4,
   "metadata": {},
   "outputs": [
    {
     "name": "stderr",
     "output_type": "stream",
     "text": [
      "2024-05-22 11:39:44.932504: I tensorflow/core/platform/cpu_feature_guard.cc:210] This TensorFlow binary is optimized to use available CPU instructions in performance-critical operations.\n",
      "To enable the following instructions: AVX2 FMA, in other operations, rebuild TensorFlow with the appropriate compiler flags.\n"
     ]
    }
   ],
   "source": [
    "from pokedex.utils_dataset import reduce_dataset\n",
    "from pokedex.augmentation import get_augment_data, transform_array, generate_augmented_image, apply_blur"
   ]
  },
  {
   "cell_type": "markdown",
   "metadata": {
    "jp-MarkdownHeadingCollapsed": true
   },
   "source": [
    "## Reduce dataset function creation"
   ]
  },
  {
   "cell_type": "code",
   "execution_count": 60,
   "metadata": {},
   "outputs": [],
   "source": [
    "setinfo = np.array(\n",
    "        [['dv1', '21', 'Dragon Vault', 'right'],\n",
    "         ['swsh9', '186', 'Brilliant Stars', 'left'],\n",
    "         ['swsh45', '73', 'Shining Fates', 'left'],\n",
    "         ['swsh6', '233', 'Chilling Reign', 'left'],\n",
    "         ['swsh12pt5', '160', 'Crown Zenith', 'left'],\n",
    "         ['xy1', '146', 'XY', 'right'],\n",
    "         ['xy2', '110', 'Flashfire', 'right'],\n",
    "         ['xy3', '114', 'Furious Fists', 'right'],\n",
    "         ['g1', '117', 'Generations', 'right'],\n",
    "         ['xy4', '124', 'Phantom Forces', 'right'],\n",
    "         ['xy6', '112', 'Roaring Skies', 'right'],\n",
    "         ['xy7', '100', 'Ancient Origins', 'right'],\n",
    "         ['dp1', '130', 'Diamond & Pearl', 'right'],\n",
    "         ['dp2', '124', 'Mysterious Treasures', 'right'],\n",
    "         ['sm4', '126', 'Crimson Invasion', 'left'],\n",
    "         ['swsh10', '216', 'Astral Radiance', 'left'],\n",
    "         ['sv4', '266', 'Paradox Rift', 'left'],\n",
    "         ['sv3pt5', '207', '151', 'left'],\n",
    "         ['sv3', '230', 'Obsidian Flames', 'left'],\n",
    "         ['sv2', '279', 'Paldea Evolved', 'left']])"
   ]
  },
  {
   "cell_type": "code",
   "execution_count": 61,
   "metadata": {},
   "outputs": [],
   "source": [
    "df = pd.read_json('../raw_data/dict_dataset_full.json')\n",
    "df['corner']=[np.array(v) for v in df['corner']]"
   ]
  },
  {
   "cell_type": "code",
   "execution_count": 195,
   "metadata": {},
   "outputs": [],
   "source": [
    "setinfo_left = setinfo[setinfo[:,3] == 'left']\n",
    "setinfo_right = setinfo[setinfo[:,3] == 'right']"
   ]
  },
  {
   "cell_type": "code",
   "execution_count": 283,
   "metadata": {},
   "outputs": [
    {
     "data": {
      "text/plain": [
       "array(['dv1', 'xy1', 'xy2', 'xy3', 'g1', 'xy4', 'xy6', 'xy7', 'dp1',\n",
       "       'dp2', 'no'], dtype='<U20')"
      ]
     },
     "execution_count": 283,
     "metadata": {},
     "output_type": "execute_result"
    }
   ],
   "source": [
    "set_list = setinfo_right[:,0]\n",
    "set_list = np.append(set_list, 'no') \n",
    "# set_list[-1] = 'no'\n",
    "set_list"
   ]
  },
  {
   "cell_type": "code",
   "execution_count": 306,
   "metadata": {},
   "outputs": [
    {
     "data": {
      "text/plain": [
       "array([['no'],\n",
       "       ['1974']], dtype='<U21')"
      ]
     },
     "execution_count": 306,
     "metadata": {},
     "output_type": "execute_result"
    }
   ],
   "source": [
    "nb_cards = np.array([sum((df['set_id'] == set_list[i]) & (df['position'] == 'right')) for i in range(set_list.shape[0])])\n",
    "\n",
    "set_to_dropcards = np.vstack((set_list[nb_cards > 150], nb_cards[nb_cards > 150]))\n",
    "set_to_dropcards"
   ]
  },
  {
   "cell_type": "code",
   "execution_count": 311,
   "metadata": {},
   "outputs": [],
   "source": [
    "df_small = pd.DataFrame()\n",
    "\n",
    "for i in range(set_to_dropcards.shape[1]):\n",
    "    idx = np.random.randint(0, high=int(set_to_dropcards[1,i]), size=150, dtype=int)\n",
    "    # df_small = df[df['set_id'] == set_to_dropcards[0,i]].iloc[idx]\n",
    "    df_small = pd.concat([ df_small, df[(df['set_id'] == set_to_dropcards[0,i]) & (df['position'] == 'right')].iloc[idx] ], axis=0, ignore_index=True)\n"
   ]
  },
  {
   "cell_type": "code",
   "execution_count": 318,
   "metadata": {},
   "outputs": [],
   "source": [
    "for i in range(len(set_list[nb_cards <= 150])):\n",
    "    df_small = pd.concat([ df_small, df[df['set_id'] == set_list[nb_cards <= 150][i]] ], axis=0, ignore_index=True)"
   ]
  },
  {
   "cell_type": "code",
   "execution_count": 317,
   "metadata": {},
   "outputs": [
    {
     "data": {
      "text/html": [
       "<div>\n",
       "<style scoped>\n",
       "    .dataframe tbody tr th:only-of-type {\n",
       "        vertical-align: middle;\n",
       "    }\n",
       "\n",
       "    .dataframe tbody tr th {\n",
       "        vertical-align: top;\n",
       "    }\n",
       "\n",
       "    .dataframe thead th {\n",
       "        text-align: right;\n",
       "    }\n",
       "</style>\n",
       "<table border=\"1\" class=\"dataframe\">\n",
       "  <thead>\n",
       "    <tr style=\"text-align: right;\">\n",
       "      <th></th>\n",
       "      <th>corner</th>\n",
       "      <th>position</th>\n",
       "      <th>set_id</th>\n",
       "      <th>set_name</th>\n",
       "    </tr>\n",
       "  </thead>\n",
       "  <tbody>\n",
       "    <tr>\n",
       "      <th>0</th>\n",
       "      <td>[[145, 145, 145, 145, 145, 145, 145, 145, 145,...</td>\n",
       "      <td>right</td>\n",
       "      <td>no</td>\n",
       "      <td>no</td>\n",
       "    </tr>\n",
       "    <tr>\n",
       "      <th>1</th>\n",
       "      <td>[[154, 154, 154, 154, 154, 154, 154, 154, 154,...</td>\n",
       "      <td>right</td>\n",
       "      <td>no</td>\n",
       "      <td>no</td>\n",
       "    </tr>\n",
       "    <tr>\n",
       "      <th>2</th>\n",
       "      <td>[[191, 191, 191, 191, 191, 191, 191, 191, 191,...</td>\n",
       "      <td>right</td>\n",
       "      <td>no</td>\n",
       "      <td>no</td>\n",
       "    </tr>\n",
       "    <tr>\n",
       "      <th>3</th>\n",
       "      <td>[[154, 154, 154, 154, 154, 154, 154, 154, 154,...</td>\n",
       "      <td>right</td>\n",
       "      <td>no</td>\n",
       "      <td>no</td>\n",
       "    </tr>\n",
       "    <tr>\n",
       "      <th>4</th>\n",
       "      <td>[[154, 154, 154, 154, 154, 154, 154, 154, 154,...</td>\n",
       "      <td>right</td>\n",
       "      <td>no</td>\n",
       "      <td>no</td>\n",
       "    </tr>\n",
       "    <tr>\n",
       "      <th>...</th>\n",
       "      <td>...</td>\n",
       "      <td>...</td>\n",
       "      <td>...</td>\n",
       "      <td>...</td>\n",
       "    </tr>\n",
       "    <tr>\n",
       "      <th>1203</th>\n",
       "      <td>[[198, 198, 198, 199, 199, 200, 200, 200, 202,...</td>\n",
       "      <td>right</td>\n",
       "      <td>dp2</td>\n",
       "      <td>Mysterious Treasures</td>\n",
       "    </tr>\n",
       "    <tr>\n",
       "      <th>1204</th>\n",
       "      <td>[[156, 155, 156, 157, 153, 145, 138, 135, 127,...</td>\n",
       "      <td>right</td>\n",
       "      <td>dp2</td>\n",
       "      <td>Mysterious Treasures</td>\n",
       "    </tr>\n",
       "    <tr>\n",
       "      <th>1205</th>\n",
       "      <td>[[130, 129, 126, 121, 115, 110, 109, 109, 105,...</td>\n",
       "      <td>right</td>\n",
       "      <td>dp2</td>\n",
       "      <td>Mysterious Treasures</td>\n",
       "    </tr>\n",
       "    <tr>\n",
       "      <th>1206</th>\n",
       "      <td>[[133, 121, 126, 120, 119, 121, 107, 110, 91, ...</td>\n",
       "      <td>right</td>\n",
       "      <td>dp2</td>\n",
       "      <td>Mysterious Treasures</td>\n",
       "    </tr>\n",
       "    <tr>\n",
       "      <th>1207</th>\n",
       "      <td>[[193, 226, 240, 217, 178, 155, 147, 142, 123,...</td>\n",
       "      <td>right</td>\n",
       "      <td>dp2</td>\n",
       "      <td>Mysterious Treasures</td>\n",
       "    </tr>\n",
       "  </tbody>\n",
       "</table>\n",
       "<p>1208 rows × 4 columns</p>\n",
       "</div>"
      ],
      "text/plain": [
       "                                                 corner position set_id  \\\n",
       "0     [[145, 145, 145, 145, 145, 145, 145, 145, 145,...    right     no   \n",
       "1     [[154, 154, 154, 154, 154, 154, 154, 154, 154,...    right     no   \n",
       "2     [[191, 191, 191, 191, 191, 191, 191, 191, 191,...    right     no   \n",
       "3     [[154, 154, 154, 154, 154, 154, 154, 154, 154,...    right     no   \n",
       "4     [[154, 154, 154, 154, 154, 154, 154, 154, 154,...    right     no   \n",
       "...                                                 ...      ...    ...   \n",
       "1203  [[198, 198, 198, 199, 199, 200, 200, 200, 202,...    right    dp2   \n",
       "1204  [[156, 155, 156, 157, 153, 145, 138, 135, 127,...    right    dp2   \n",
       "1205  [[130, 129, 126, 121, 115, 110, 109, 109, 105,...    right    dp2   \n",
       "1206  [[133, 121, 126, 120, 119, 121, 107, 110, 91, ...    right    dp2   \n",
       "1207  [[193, 226, 240, 217, 178, 155, 147, 142, 123,...    right    dp2   \n",
       "\n",
       "                  set_name  \n",
       "0                       no  \n",
       "1                       no  \n",
       "2                       no  \n",
       "3                       no  \n",
       "4                       no  \n",
       "...                    ...  \n",
       "1203  Mysterious Treasures  \n",
       "1204  Mysterious Treasures  \n",
       "1205  Mysterious Treasures  \n",
       "1206  Mysterious Treasures  \n",
       "1207  Mysterious Treasures  \n",
       "\n",
       "[1208 rows x 4 columns]"
      ]
     },
     "execution_count": 317,
     "metadata": {},
     "output_type": "execute_result"
    }
   ],
   "source": [
    "df_small"
   ]
  },
  {
   "cell_type": "code",
   "execution_count": 62,
   "metadata": {},
   "outputs": [],
   "source": [
    "reduce_dataset()"
   ]
  },
  {
   "cell_type": "markdown",
   "metadata": {},
   "source": [
    "## Work with left and right dataset"
   ]
  },
  {
   "cell_type": "code",
   "execution_count": 34,
   "metadata": {},
   "outputs": [],
   "source": [
    "# df_right = pd.read_json('../raw_data/dict_reduceddataset_right.json')\n",
    "# df_left = pd.read_json('../raw_data/dict_reduceddataset_left.json')"
   ]
  },
  {
   "cell_type": "code",
   "execution_count": 5,
   "metadata": {
    "scrolled": true
   },
   "outputs": [],
   "source": [
    "df_right = get_augment_data('../raw_data/dict_reduceddataset_right.json')"
   ]
  },
  {
   "cell_type": "markdown",
   "metadata": {},
   "source": [
    "### Split data into train and validation"
   ]
  },
  {
   "cell_type": "code",
   "execution_count": 7,
   "metadata": {},
   "outputs": [
    {
     "data": {
      "text/plain": [
       "(3300, 4)"
      ]
     },
     "execution_count": 7,
     "metadata": {},
     "output_type": "execute_result"
    }
   ],
   "source": [
    "df_right.shape"
   ]
  },
  {
   "cell_type": "code",
   "execution_count": 8,
   "metadata": {},
   "outputs": [],
   "source": [
    "df_right = shuffle(df_right).reset_index(drop=True)"
   ]
  },
  {
   "cell_type": "code",
   "execution_count": 9,
   "metadata": {},
   "outputs": [
    {
     "data": {
      "text/html": [
       "<div>\n",
       "<style scoped>\n",
       "    .dataframe tbody tr th:only-of-type {\n",
       "        vertical-align: middle;\n",
       "    }\n",
       "\n",
       "    .dataframe tbody tr th {\n",
       "        vertical-align: top;\n",
       "    }\n",
       "\n",
       "    .dataframe thead th {\n",
       "        text-align: right;\n",
       "    }\n",
       "</style>\n",
       "<table border=\"1\" class=\"dataframe\">\n",
       "  <thead>\n",
       "    <tr style=\"text-align: right;\">\n",
       "      <th></th>\n",
       "      <th>corner</th>\n",
       "      <th>position</th>\n",
       "      <th>set_id</th>\n",
       "      <th>set_name</th>\n",
       "    </tr>\n",
       "  </thead>\n",
       "  <tbody>\n",
       "    <tr>\n",
       "      <th>0</th>\n",
       "      <td>[[[151], [151], [149], [147], [142], [137], [1...</td>\n",
       "      <td>right</td>\n",
       "      <td>dp2</td>\n",
       "      <td>Mysterious Treasures</td>\n",
       "    </tr>\n",
       "    <tr>\n",
       "      <th>1</th>\n",
       "      <td>[[[153], [153], [153], [153], [153], [153], [1...</td>\n",
       "      <td>right</td>\n",
       "      <td>dp2</td>\n",
       "      <td>Mysterious Treasures</td>\n",
       "    </tr>\n",
       "    <tr>\n",
       "      <th>2</th>\n",
       "      <td>[[[[76], [80], [80], [80], [80], [71], [71], [...</td>\n",
       "      <td>right</td>\n",
       "      <td>xy2</td>\n",
       "      <td>Flashfire</td>\n",
       "    </tr>\n",
       "    <tr>\n",
       "      <th>3</th>\n",
       "      <td>[[[[216], [219], [222], [221], [215], [211], [...</td>\n",
       "      <td>right</td>\n",
       "      <td>dp1</td>\n",
       "      <td>Diamond &amp; Pearl</td>\n",
       "    </tr>\n",
       "    <tr>\n",
       "      <th>4</th>\n",
       "      <td>[[[204], [203], [201], [198], [194], [192], [1...</td>\n",
       "      <td>right</td>\n",
       "      <td>dp1</td>\n",
       "      <td>Diamond &amp; Pearl</td>\n",
       "    </tr>\n",
       "    <tr>\n",
       "      <th>...</th>\n",
       "      <td>...</td>\n",
       "      <td>...</td>\n",
       "      <td>...</td>\n",
       "      <td>...</td>\n",
       "    </tr>\n",
       "    <tr>\n",
       "      <th>3295</th>\n",
       "      <td>[[[87], [87], [87], [86], [85], [84], [84], [8...</td>\n",
       "      <td>right</td>\n",
       "      <td>dv1</td>\n",
       "      <td>Dragon Vault</td>\n",
       "    </tr>\n",
       "    <tr>\n",
       "      <th>3296</th>\n",
       "      <td>[[[201], [201], [200], [200], [200], [199], [1...</td>\n",
       "      <td>right</td>\n",
       "      <td>dv1</td>\n",
       "      <td>Dragon Vault</td>\n",
       "    </tr>\n",
       "    <tr>\n",
       "      <th>3297</th>\n",
       "      <td>[[[[224], [219], [223], [218], [218], [219], [...</td>\n",
       "      <td>right</td>\n",
       "      <td>dp1</td>\n",
       "      <td>Diamond &amp; Pearl</td>\n",
       "    </tr>\n",
       "    <tr>\n",
       "      <th>3298</th>\n",
       "      <td>[[[55], [55], [55], [55], [55], [55], [56], [5...</td>\n",
       "      <td>right</td>\n",
       "      <td>xy3</td>\n",
       "      <td>Furious Fists</td>\n",
       "    </tr>\n",
       "    <tr>\n",
       "      <th>3299</th>\n",
       "      <td>[[[194], [194], [194], [194], [192], [190], [1...</td>\n",
       "      <td>right</td>\n",
       "      <td>g1</td>\n",
       "      <td>Generations</td>\n",
       "    </tr>\n",
       "  </tbody>\n",
       "</table>\n",
       "<p>3300 rows × 4 columns</p>\n",
       "</div>"
      ],
      "text/plain": [
       "                                                 corner position set_id  \\\n",
       "0     [[[151], [151], [149], [147], [142], [137], [1...    right    dp2   \n",
       "1     [[[153], [153], [153], [153], [153], [153], [1...    right    dp2   \n",
       "2     [[[[76], [80], [80], [80], [80], [71], [71], [...    right    xy2   \n",
       "3     [[[[216], [219], [222], [221], [215], [211], [...    right    dp1   \n",
       "4     [[[204], [203], [201], [198], [194], [192], [1...    right    dp1   \n",
       "...                                                 ...      ...    ...   \n",
       "3295  [[[87], [87], [87], [86], [85], [84], [84], [8...    right    dv1   \n",
       "3296  [[[201], [201], [200], [200], [200], [199], [1...    right    dv1   \n",
       "3297  [[[[224], [219], [223], [218], [218], [219], [...    right    dp1   \n",
       "3298  [[[55], [55], [55], [55], [55], [55], [56], [5...    right    xy3   \n",
       "3299  [[[194], [194], [194], [194], [192], [190], [1...    right     g1   \n",
       "\n",
       "                  set_name  \n",
       "0     Mysterious Treasures  \n",
       "1     Mysterious Treasures  \n",
       "2                Flashfire  \n",
       "3          Diamond & Pearl  \n",
       "4          Diamond & Pearl  \n",
       "...                    ...  \n",
       "3295          Dragon Vault  \n",
       "3296          Dragon Vault  \n",
       "3297       Diamond & Pearl  \n",
       "3298         Furious Fists  \n",
       "3299           Generations  \n",
       "\n",
       "[3300 rows x 4 columns]"
      ]
     },
     "execution_count": 9,
     "metadata": {},
     "output_type": "execute_result"
    }
   ],
   "source": [
    "df_right"
   ]
  },
  {
   "cell_type": "code",
   "execution_count": 41,
   "metadata": {},
   "outputs": [
    {
     "ename": "ValueError",
     "evalue": "invalid literal for int() with base 10: 'dp2'",
     "output_type": "error",
     "traceback": [
      "\u001b[0;31m---------------------------------------------------------------------------\u001b[0m",
      "\u001b[0;31mValueError\u001b[0m                                Traceback (most recent call last)",
      "Cell \u001b[0;32mIn[41], line 1\u001b[0m\n\u001b[0;32m----> 1\u001b[0m df_right[\u001b[38;5;124m'\u001b[39m\u001b[38;5;124mtarget\u001b[39m\u001b[38;5;124m'\u001b[39m] \u001b[38;5;241m=\u001b[39m \u001b[43mto_categorical\u001b[49m\u001b[43m(\u001b[49m\u001b[43mdf_right\u001b[49m\u001b[43m[\u001b[49m\u001b[38;5;124;43m'\u001b[39;49m\u001b[38;5;124;43mset_id\u001b[39;49m\u001b[38;5;124;43m'\u001b[39;49m\u001b[43m]\u001b[49m\u001b[43m)\u001b[49m\n",
      "File \u001b[0;32m~/.pyenv/versions/3.10.6/envs/project_pokereader/lib/python3.10/site-packages/keras/src/utils/numerical_utils.py:77\u001b[0m, in \u001b[0;36mto_categorical\u001b[0;34m(x, num_classes)\u001b[0m\n\u001b[1;32m     75\u001b[0m \u001b[38;5;28;01mif\u001b[39;00m backend\u001b[38;5;241m.\u001b[39mis_tensor(x):\n\u001b[1;32m     76\u001b[0m     \u001b[38;5;28;01mreturn\u001b[39;00m backend\u001b[38;5;241m.\u001b[39mnn\u001b[38;5;241m.\u001b[39mone_hot(x, num_classes)\n\u001b[0;32m---> 77\u001b[0m x \u001b[38;5;241m=\u001b[39m \u001b[43mnp\u001b[49m\u001b[38;5;241;43m.\u001b[39;49m\u001b[43marray\u001b[49m\u001b[43m(\u001b[49m\u001b[43mx\u001b[49m\u001b[43m,\u001b[49m\u001b[43m \u001b[49m\u001b[43mdtype\u001b[49m\u001b[38;5;241;43m=\u001b[39;49m\u001b[38;5;124;43m\"\u001b[39;49m\u001b[38;5;124;43mint64\u001b[39;49m\u001b[38;5;124;43m\"\u001b[39;49m\u001b[43m)\u001b[49m\n\u001b[1;32m     78\u001b[0m input_shape \u001b[38;5;241m=\u001b[39m x\u001b[38;5;241m.\u001b[39mshape\n\u001b[1;32m     80\u001b[0m \u001b[38;5;66;03m# Shrink the last dimension if the shape is (..., 1).\u001b[39;00m\n",
      "File \u001b[0;32m~/.pyenv/versions/3.10.6/envs/project_pokereader/lib/python3.10/site-packages/pandas/core/series.py:1031\u001b[0m, in \u001b[0;36mSeries.__array__\u001b[0;34m(self, dtype, copy)\u001b[0m\n\u001b[1;32m    981\u001b[0m \u001b[38;5;250m\u001b[39m\u001b[38;5;124;03m\"\"\"\u001b[39;00m\n\u001b[1;32m    982\u001b[0m \u001b[38;5;124;03mReturn the values as a NumPy array.\u001b[39;00m\n\u001b[1;32m    983\u001b[0m \n\u001b[0;32m   (...)\u001b[0m\n\u001b[1;32m   1028\u001b[0m \u001b[38;5;124;03m      dtype='datetime64[ns]')\u001b[39;00m\n\u001b[1;32m   1029\u001b[0m \u001b[38;5;124;03m\"\"\"\u001b[39;00m\n\u001b[1;32m   1030\u001b[0m values \u001b[38;5;241m=\u001b[39m \u001b[38;5;28mself\u001b[39m\u001b[38;5;241m.\u001b[39m_values\n\u001b[0;32m-> 1031\u001b[0m arr \u001b[38;5;241m=\u001b[39m \u001b[43mnp\u001b[49m\u001b[38;5;241;43m.\u001b[39;49m\u001b[43masarray\u001b[49m\u001b[43m(\u001b[49m\u001b[43mvalues\u001b[49m\u001b[43m,\u001b[49m\u001b[43m \u001b[49m\u001b[43mdtype\u001b[49m\u001b[38;5;241;43m=\u001b[39;49m\u001b[43mdtype\u001b[49m\u001b[43m)\u001b[49m\n\u001b[1;32m   1032\u001b[0m \u001b[38;5;28;01mif\u001b[39;00m using_copy_on_write() \u001b[38;5;129;01mand\u001b[39;00m astype_is_view(values\u001b[38;5;241m.\u001b[39mdtype, arr\u001b[38;5;241m.\u001b[39mdtype):\n\u001b[1;32m   1033\u001b[0m     arr \u001b[38;5;241m=\u001b[39m arr\u001b[38;5;241m.\u001b[39mview()\n",
      "\u001b[0;31mValueError\u001b[0m: invalid literal for int() with base 10: 'dp2'"
     ]
    }
   ],
   "source": [
    "df_right['target'] = to_categorical(df_right['set_id'])"
   ]
  },
  {
   "cell_type": "code",
   "execution_count": 10,
   "metadata": {},
   "outputs": [
    {
     "data": {
      "text/plain": [
       "2640"
      ]
     },
     "execution_count": 10,
     "metadata": {},
     "output_type": "execute_result"
    }
   ],
   "source": [
    "nb_split = int(df_right.shape[0]*0.8)\n",
    "nb_split"
   ]
  },
  {
   "cell_type": "code",
   "execution_count": 11,
   "metadata": {},
   "outputs": [],
   "source": [
    "dfr_train = df_right.iloc[:nb_split]\n",
    "dfr_val = df_right.iloc[nb_split:]"
   ]
  },
  {
   "cell_type": "code",
   "execution_count": 12,
   "metadata": {},
   "outputs": [
    {
     "data": {
      "text/plain": [
       "(660,)"
      ]
     },
     "execution_count": 12,
     "metadata": {},
     "output_type": "execute_result"
    }
   ],
   "source": [
    "y_train = dfr_train.loc[:,'set_id']\n",
    "y_train.shape\n",
    "y_val = dfr_val.loc[:,'set_id']\n",
    "y_val.shape"
   ]
  },
  {
   "cell_type": "code",
   "execution_count": 13,
   "metadata": {},
   "outputs": [
    {
     "data": {
      "text/plain": [
       "(72, 184, 1)"
      ]
     },
     "execution_count": 13,
     "metadata": {},
     "output_type": "execute_result"
    }
   ],
   "source": [
    "X_train = dfr_train.loc[:,'corner']\n",
    "X_train[0].shape"
   ]
  },
  {
   "cell_type": "code",
   "execution_count": 27,
   "metadata": {},
   "outputs": [
    {
     "data": {
      "text/plain": [
       "(2640, 72, 184, 1)"
      ]
     },
     "execution_count": 27,
     "metadata": {},
     "output_type": "execute_result"
    }
   ],
   "source": [
    "XX_train = np.empty((nb_split, 72, 184, 1))\n",
    "for i, x in enumerate(X_train):\n",
    "    XX_train[i,:,:,:] = x\n",
    "\n",
    "XX_train.shape"
   ]
  },
  {
   "cell_type": "code",
   "execution_count": 30,
   "metadata": {},
   "outputs": [
    {
     "data": {
      "text/plain": [
       "(660, 72, 184, 1)"
      ]
     },
     "execution_count": 30,
     "metadata": {},
     "output_type": "execute_result"
    }
   ],
   "source": [
    "X_val = dfr_val.loc[:,'corner']\n",
    "XX_val = np.empty((3300 - nb_split, 72, 184, 1))\n",
    "for i, x in enumerate(X_val):\n",
    "    XX_val[i,:,:,:] = x\n",
    "\n",
    "XX_val.shape"
   ]
  },
  {
   "cell_type": "code",
   "execution_count": 25,
   "metadata": {},
   "outputs": [
    {
     "data": {
      "text/plain": [
       "set_id\n",
       "xy3    250\n",
       "dv1    245\n",
       "xy6    242\n",
       "xy7    241\n",
       "dp2    240\n",
       "dp1    240\n",
       "g1     240\n",
       "xy1    240\n",
       "xy2    239\n",
       "xy4    232\n",
       "no     231\n",
       "Name: count, dtype: int64"
      ]
     },
     "execution_count": 25,
     "metadata": {},
     "output_type": "execute_result"
    }
   ],
   "source": [
    "y_train.value_counts()"
   ]
  },
  {
   "cell_type": "code",
   "execution_count": 26,
   "metadata": {},
   "outputs": [
    {
     "data": {
      "text/plain": [
       "set_id\n",
       "no     69\n",
       "xy4    68\n",
       "xy2    61\n",
       "dp1    60\n",
       "g1     60\n",
       "xy1    60\n",
       "dp2    60\n",
       "xy7    59\n",
       "xy6    58\n",
       "dv1    55\n",
       "xy3    50\n",
       "Name: count, dtype: int64"
      ]
     },
     "execution_count": 26,
     "metadata": {},
     "output_type": "execute_result"
    }
   ],
   "source": [
    "y_val.value_counts()"
   ]
  },
  {
   "cell_type": "markdown",
   "metadata": {},
   "source": [
    "## Model baseline"
   ]
  },
  {
   "cell_type": "code",
   "execution_count": 36,
   "metadata": {},
   "outputs": [],
   "source": [
    "from tensorflow.keras import layers\n",
    "from tensorflow.keras.models import Sequential\n",
    "from tensorflow.keras.layers import Dense, Activation, Dropout, Flatten, Conv2D, MaxPooling2D\n",
    "from tensorflow.keras.optimizers import SGD, RMSprop, Adam\n",
    "from tensorflow.keras.utils import to_categorical\n",
    "import tensorflow as tf"
   ]
  },
  {
   "cell_type": "code",
   "execution_count": 22,
   "metadata": {},
   "outputs": [],
   "source": [
    "from tensorflow.keras.callbacks import EarlyStopping"
   ]
  },
  {
   "cell_type": "code",
   "execution_count": 20,
   "metadata": {},
   "outputs": [],
   "source": [
    "# ——— CNN Version III:\n",
    "\n",
    "# - Integrate Preprocessing Layers\n",
    "# - Add Regularization\n",
    "\n",
    "model_pipe = Sequential([\n",
    "    layers.Reshape((72, 184, 1), input_shape=(72,184)),\n",
    "    layers.Rescaling(scale=1./255.),\n",
    "    \n",
    "    layers.Conv2D(32, (5,5), padding='same', activation=\"relu\"),\n",
    "    layers.MaxPool2D(pool_size=(2,2)),\n",
    "    layers.Conv2D(32, (3,3), padding='same', activation=\"relu\"),\n",
    "    layers.MaxPool2D(pool_size=(2,2)),\n",
    "    layers.Dropout(0.3),\n",
    "    layers.Flatten(),\n",
    "    layers.Dense(128, activation='relu'),\n",
    "    layers.Dense(11, activation='softmax')\n",
    "])\n"
   ]
  },
  {
   "cell_type": "code",
   "execution_count": 31,
   "metadata": {},
   "outputs": [],
   "source": [
    "model_pipe.compile(loss='categorical_crossentropy', # No need to OHE target\n",
    "                   optimizer='adam',\n",
    "                   metrics=['accuracy'])"
   ]
  },
  {
   "cell_type": "code",
   "execution_count": 32,
   "metadata": {},
   "outputs": [
    {
     "name": "stdout",
     "output_type": "stream",
     "text": [
      "Epoch 1/100\n"
     ]
    },
    {
     "name": "stderr",
     "output_type": "stream",
     "text": [
      "2024-05-22 11:49:50.591474: W tensorflow/core/framework/op_kernel.cc:1816] OP_REQUIRES failed at cast_op.cc:122 : UNIMPLEMENTED: Cast string to float is not supported\n"
     ]
    },
    {
     "ename": "UnimplementedError",
     "evalue": "Graph execution error:\n\nDetected at node compile_loss/sparse_categorical_crossentropy/Cast defined at (most recent call last):\n  File \"/Users/estelle/.pyenv/versions/3.10.6/lib/python3.10/runpy.py\", line 196, in _run_module_as_main\n\n  File \"/Users/estelle/.pyenv/versions/3.10.6/lib/python3.10/runpy.py\", line 86, in _run_code\n\n  File \"/Users/estelle/.pyenv/versions/3.10.6/envs/project_pokereader/lib/python3.10/site-packages/ipykernel_launcher.py\", line 18, in <module>\n\n  File \"/Users/estelle/.pyenv/versions/3.10.6/envs/project_pokereader/lib/python3.10/site-packages/traitlets/config/application.py\", line 1075, in launch_instance\n\n  File \"/Users/estelle/.pyenv/versions/3.10.6/envs/project_pokereader/lib/python3.10/site-packages/ipykernel/kernelapp.py\", line 739, in start\n\n  File \"/Users/estelle/.pyenv/versions/3.10.6/envs/project_pokereader/lib/python3.10/site-packages/tornado/platform/asyncio.py\", line 205, in start\n\n  File \"/Users/estelle/.pyenv/versions/3.10.6/lib/python3.10/asyncio/base_events.py\", line 600, in run_forever\n\n  File \"/Users/estelle/.pyenv/versions/3.10.6/lib/python3.10/asyncio/base_events.py\", line 1896, in _run_once\n\n  File \"/Users/estelle/.pyenv/versions/3.10.6/lib/python3.10/asyncio/events.py\", line 80, in _run\n\n  File \"/Users/estelle/.pyenv/versions/3.10.6/envs/project_pokereader/lib/python3.10/site-packages/ipykernel/kernelbase.py\", line 545, in dispatch_queue\n\n  File \"/Users/estelle/.pyenv/versions/3.10.6/envs/project_pokereader/lib/python3.10/site-packages/ipykernel/kernelbase.py\", line 534, in process_one\n\n  File \"/Users/estelle/.pyenv/versions/3.10.6/envs/project_pokereader/lib/python3.10/site-packages/ipykernel/kernelbase.py\", line 437, in dispatch_shell\n\n  File \"/Users/estelle/.pyenv/versions/3.10.6/envs/project_pokereader/lib/python3.10/site-packages/ipykernel/ipkernel.py\", line 362, in execute_request\n\n  File \"/Users/estelle/.pyenv/versions/3.10.6/envs/project_pokereader/lib/python3.10/site-packages/ipykernel/kernelbase.py\", line 778, in execute_request\n\n  File \"/Users/estelle/.pyenv/versions/3.10.6/envs/project_pokereader/lib/python3.10/site-packages/ipykernel/ipkernel.py\", line 449, in do_execute\n\n  File \"/Users/estelle/.pyenv/versions/3.10.6/envs/project_pokereader/lib/python3.10/site-packages/ipykernel/zmqshell.py\", line 549, in run_cell\n\n  File \"/Users/estelle/.pyenv/versions/3.10.6/envs/project_pokereader/lib/python3.10/site-packages/IPython/core/interactiveshell.py\", line 3075, in run_cell\n\n  File \"/Users/estelle/.pyenv/versions/3.10.6/envs/project_pokereader/lib/python3.10/site-packages/IPython/core/interactiveshell.py\", line 3130, in _run_cell\n\n  File \"/Users/estelle/.pyenv/versions/3.10.6/envs/project_pokereader/lib/python3.10/site-packages/IPython/core/async_helpers.py\", line 129, in _pseudo_sync_runner\n\n  File \"/Users/estelle/.pyenv/versions/3.10.6/envs/project_pokereader/lib/python3.10/site-packages/IPython/core/interactiveshell.py\", line 3334, in run_cell_async\n\n  File \"/Users/estelle/.pyenv/versions/3.10.6/envs/project_pokereader/lib/python3.10/site-packages/IPython/core/interactiveshell.py\", line 3517, in run_ast_nodes\n\n  File \"/Users/estelle/.pyenv/versions/3.10.6/envs/project_pokereader/lib/python3.10/site-packages/IPython/core/interactiveshell.py\", line 3577, in run_code\n\n  File \"/var/folders/zs/9clhw6z50g3d3dytww5n3qhw0000gn/T/ipykernel_23011/4177364205.py\", line 3, in <module>\n\n  File \"/Users/estelle/.pyenv/versions/3.10.6/envs/project_pokereader/lib/python3.10/site-packages/keras/src/utils/traceback_utils.py\", line 117, in error_handler\n\n  File \"/Users/estelle/.pyenv/versions/3.10.6/envs/project_pokereader/lib/python3.10/site-packages/keras/src/backend/tensorflow/trainer.py\", line 314, in fit\n\n  File \"/Users/estelle/.pyenv/versions/3.10.6/envs/project_pokereader/lib/python3.10/site-packages/keras/src/backend/tensorflow/trainer.py\", line 117, in one_step_on_iterator\n\n  File \"/Users/estelle/.pyenv/versions/3.10.6/envs/project_pokereader/lib/python3.10/site-packages/keras/src/backend/tensorflow/trainer.py\", line 104, in one_step_on_data\n\n  File \"/Users/estelle/.pyenv/versions/3.10.6/envs/project_pokereader/lib/python3.10/site-packages/keras/src/backend/tensorflow/trainer.py\", line 54, in train_step\n\n  File \"/Users/estelle/.pyenv/versions/3.10.6/envs/project_pokereader/lib/python3.10/site-packages/keras/src/trainers/trainer.py\", line 316, in compute_loss\n\n  File \"/Users/estelle/.pyenv/versions/3.10.6/envs/project_pokereader/lib/python3.10/site-packages/keras/src/trainers/compile_utils.py\", line 609, in __call__\n\n  File \"/Users/estelle/.pyenv/versions/3.10.6/envs/project_pokereader/lib/python3.10/site-packages/keras/src/trainers/compile_utils.py\", line 645, in call\n\n  File \"/Users/estelle/.pyenv/versions/3.10.6/envs/project_pokereader/lib/python3.10/site-packages/keras/src/losses/loss.py\", line 39, in __call__\n\n  File \"/Users/estelle/.pyenv/versions/3.10.6/envs/project_pokereader/lib/python3.10/site-packages/keras/src/tree/tree_api.py\", line 148, in map_structure\n\n  File \"/Users/estelle/.pyenv/versions/3.10.6/envs/project_pokereader/lib/python3.10/site-packages/keras/src/tree/optree_impl.py\", line 79, in map_structure\n\n  File \"/Users/estelle/.pyenv/versions/3.10.6/envs/project_pokereader/lib/python3.10/site-packages/optree/ops.py\", line 594, in tree_map\n\n  File \"/Users/estelle/.pyenv/versions/3.10.6/envs/project_pokereader/lib/python3.10/site-packages/keras/src/losses/loss.py\", line 40, in <lambda>\n\n  File \"/Users/estelle/.pyenv/versions/3.10.6/envs/project_pokereader/lib/python3.10/site-packages/keras/src/ops/core.py\", line 495, in convert_to_tensor\n\n  File \"/Users/estelle/.pyenv/versions/3.10.6/envs/project_pokereader/lib/python3.10/site-packages/keras/src/backend/tensorflow/core.py\", line 120, in convert_to_tensor\n\nCast string to float is not supported\n\t [[{{node compile_loss/sparse_categorical_crossentropy/Cast}}]] [Op:__inference_one_step_on_iterator_1832]",
     "output_type": "error",
     "traceback": [
      "\u001b[0;31m---------------------------------------------------------------------------\u001b[0m",
      "\u001b[0;31mUnimplementedError\u001b[0m                        Traceback (most recent call last)",
      "Cell \u001b[0;32mIn[32], line 3\u001b[0m\n\u001b[1;32m      1\u001b[0m es \u001b[38;5;241m=\u001b[39m EarlyStopping(patience \u001b[38;5;241m=\u001b[39m \u001b[38;5;241m5\u001b[39m, restore_best_weights\u001b[38;5;241m=\u001b[39m\u001b[38;5;28;01mTrue\u001b[39;00m)\n\u001b[0;32m----> 3\u001b[0m history \u001b[38;5;241m=\u001b[39m \u001b[43mmodel_pipe\u001b[49m\u001b[38;5;241;43m.\u001b[39;49m\u001b[43mfit\u001b[49m\u001b[43m(\u001b[49m\u001b[43mXX_train\u001b[49m\u001b[43m,\u001b[49m\u001b[43m \u001b[49m\u001b[43my_train\u001b[49m\u001b[43m,\u001b[49m\n\u001b[1;32m      4\u001b[0m \u001b[43m               \u001b[49m\u001b[43mepochs\u001b[49m\u001b[38;5;241;43m=\u001b[39;49m\u001b[38;5;241;43m100\u001b[39;49m\u001b[43m,\u001b[49m\u001b[43m \u001b[49m\u001b[38;5;66;43;03m# Use early stopping in practice\u001b[39;49;00m\n\u001b[1;32m      5\u001b[0m \u001b[43m               \u001b[49m\u001b[43mbatch_size\u001b[49m\u001b[38;5;241;43m=\u001b[39;49m\u001b[38;5;241;43m32\u001b[39;49m\u001b[43m,\u001b[49m\n\u001b[1;32m      6\u001b[0m \u001b[43m               \u001b[49m\u001b[43mvalidation_data\u001b[49m\u001b[38;5;241;43m=\u001b[39;49m\u001b[43m(\u001b[49m\u001b[43mXX_val\u001b[49m\u001b[43m,\u001b[49m\u001b[43m \u001b[49m\u001b[43my_val\u001b[49m\u001b[43m)\u001b[49m\u001b[43m,\u001b[49m\n\u001b[1;32m      7\u001b[0m \u001b[43m               \u001b[49m\u001b[43mverbose\u001b[49m\u001b[38;5;241;43m=\u001b[39;49m\u001b[38;5;241;43m1\u001b[39;49m\u001b[43m)\u001b[49m\n",
      "File \u001b[0;32m~/.pyenv/versions/3.10.6/envs/project_pokereader/lib/python3.10/site-packages/keras/src/utils/traceback_utils.py:122\u001b[0m, in \u001b[0;36mfilter_traceback.<locals>.error_handler\u001b[0;34m(*args, **kwargs)\u001b[0m\n\u001b[1;32m    119\u001b[0m     filtered_tb \u001b[38;5;241m=\u001b[39m _process_traceback_frames(e\u001b[38;5;241m.\u001b[39m__traceback__)\n\u001b[1;32m    120\u001b[0m     \u001b[38;5;66;03m# To get the full stack trace, call:\u001b[39;00m\n\u001b[1;32m    121\u001b[0m     \u001b[38;5;66;03m# `keras.config.disable_traceback_filtering()`\u001b[39;00m\n\u001b[0;32m--> 122\u001b[0m     \u001b[38;5;28;01mraise\u001b[39;00m e\u001b[38;5;241m.\u001b[39mwith_traceback(filtered_tb) \u001b[38;5;28;01mfrom\u001b[39;00m \u001b[38;5;28;01mNone\u001b[39;00m\n\u001b[1;32m    123\u001b[0m \u001b[38;5;28;01mfinally\u001b[39;00m:\n\u001b[1;32m    124\u001b[0m     \u001b[38;5;28;01mdel\u001b[39;00m filtered_tb\n",
      "File \u001b[0;32m~/.pyenv/versions/3.10.6/envs/project_pokereader/lib/python3.10/site-packages/tensorflow/python/eager/execute.py:53\u001b[0m, in \u001b[0;36mquick_execute\u001b[0;34m(op_name, num_outputs, inputs, attrs, ctx, name)\u001b[0m\n\u001b[1;32m     51\u001b[0m \u001b[38;5;28;01mtry\u001b[39;00m:\n\u001b[1;32m     52\u001b[0m   ctx\u001b[38;5;241m.\u001b[39mensure_initialized()\n\u001b[0;32m---> 53\u001b[0m   tensors \u001b[38;5;241m=\u001b[39m pywrap_tfe\u001b[38;5;241m.\u001b[39mTFE_Py_Execute(ctx\u001b[38;5;241m.\u001b[39m_handle, device_name, op_name,\n\u001b[1;32m     54\u001b[0m                                       inputs, attrs, num_outputs)\n\u001b[1;32m     55\u001b[0m \u001b[38;5;28;01mexcept\u001b[39;00m core\u001b[38;5;241m.\u001b[39m_NotOkStatusException \u001b[38;5;28;01mas\u001b[39;00m e:\n\u001b[1;32m     56\u001b[0m   \u001b[38;5;28;01mif\u001b[39;00m name \u001b[38;5;129;01mis\u001b[39;00m \u001b[38;5;129;01mnot\u001b[39;00m \u001b[38;5;28;01mNone\u001b[39;00m:\n",
      "\u001b[0;31mUnimplementedError\u001b[0m: Graph execution error:\n\nDetected at node compile_loss/sparse_categorical_crossentropy/Cast defined at (most recent call last):\n  File \"/Users/estelle/.pyenv/versions/3.10.6/lib/python3.10/runpy.py\", line 196, in _run_module_as_main\n\n  File \"/Users/estelle/.pyenv/versions/3.10.6/lib/python3.10/runpy.py\", line 86, in _run_code\n\n  File \"/Users/estelle/.pyenv/versions/3.10.6/envs/project_pokereader/lib/python3.10/site-packages/ipykernel_launcher.py\", line 18, in <module>\n\n  File \"/Users/estelle/.pyenv/versions/3.10.6/envs/project_pokereader/lib/python3.10/site-packages/traitlets/config/application.py\", line 1075, in launch_instance\n\n  File \"/Users/estelle/.pyenv/versions/3.10.6/envs/project_pokereader/lib/python3.10/site-packages/ipykernel/kernelapp.py\", line 739, in start\n\n  File \"/Users/estelle/.pyenv/versions/3.10.6/envs/project_pokereader/lib/python3.10/site-packages/tornado/platform/asyncio.py\", line 205, in start\n\n  File \"/Users/estelle/.pyenv/versions/3.10.6/lib/python3.10/asyncio/base_events.py\", line 600, in run_forever\n\n  File \"/Users/estelle/.pyenv/versions/3.10.6/lib/python3.10/asyncio/base_events.py\", line 1896, in _run_once\n\n  File \"/Users/estelle/.pyenv/versions/3.10.6/lib/python3.10/asyncio/events.py\", line 80, in _run\n\n  File \"/Users/estelle/.pyenv/versions/3.10.6/envs/project_pokereader/lib/python3.10/site-packages/ipykernel/kernelbase.py\", line 545, in dispatch_queue\n\n  File \"/Users/estelle/.pyenv/versions/3.10.6/envs/project_pokereader/lib/python3.10/site-packages/ipykernel/kernelbase.py\", line 534, in process_one\n\n  File \"/Users/estelle/.pyenv/versions/3.10.6/envs/project_pokereader/lib/python3.10/site-packages/ipykernel/kernelbase.py\", line 437, in dispatch_shell\n\n  File \"/Users/estelle/.pyenv/versions/3.10.6/envs/project_pokereader/lib/python3.10/site-packages/ipykernel/ipkernel.py\", line 362, in execute_request\n\n  File \"/Users/estelle/.pyenv/versions/3.10.6/envs/project_pokereader/lib/python3.10/site-packages/ipykernel/kernelbase.py\", line 778, in execute_request\n\n  File \"/Users/estelle/.pyenv/versions/3.10.6/envs/project_pokereader/lib/python3.10/site-packages/ipykernel/ipkernel.py\", line 449, in do_execute\n\n  File \"/Users/estelle/.pyenv/versions/3.10.6/envs/project_pokereader/lib/python3.10/site-packages/ipykernel/zmqshell.py\", line 549, in run_cell\n\n  File \"/Users/estelle/.pyenv/versions/3.10.6/envs/project_pokereader/lib/python3.10/site-packages/IPython/core/interactiveshell.py\", line 3075, in run_cell\n\n  File \"/Users/estelle/.pyenv/versions/3.10.6/envs/project_pokereader/lib/python3.10/site-packages/IPython/core/interactiveshell.py\", line 3130, in _run_cell\n\n  File \"/Users/estelle/.pyenv/versions/3.10.6/envs/project_pokereader/lib/python3.10/site-packages/IPython/core/async_helpers.py\", line 129, in _pseudo_sync_runner\n\n  File \"/Users/estelle/.pyenv/versions/3.10.6/envs/project_pokereader/lib/python3.10/site-packages/IPython/core/interactiveshell.py\", line 3334, in run_cell_async\n\n  File \"/Users/estelle/.pyenv/versions/3.10.6/envs/project_pokereader/lib/python3.10/site-packages/IPython/core/interactiveshell.py\", line 3517, in run_ast_nodes\n\n  File \"/Users/estelle/.pyenv/versions/3.10.6/envs/project_pokereader/lib/python3.10/site-packages/IPython/core/interactiveshell.py\", line 3577, in run_code\n\n  File \"/var/folders/zs/9clhw6z50g3d3dytww5n3qhw0000gn/T/ipykernel_23011/4177364205.py\", line 3, in <module>\n\n  File \"/Users/estelle/.pyenv/versions/3.10.6/envs/project_pokereader/lib/python3.10/site-packages/keras/src/utils/traceback_utils.py\", line 117, in error_handler\n\n  File \"/Users/estelle/.pyenv/versions/3.10.6/envs/project_pokereader/lib/python3.10/site-packages/keras/src/backend/tensorflow/trainer.py\", line 314, in fit\n\n  File \"/Users/estelle/.pyenv/versions/3.10.6/envs/project_pokereader/lib/python3.10/site-packages/keras/src/backend/tensorflow/trainer.py\", line 117, in one_step_on_iterator\n\n  File \"/Users/estelle/.pyenv/versions/3.10.6/envs/project_pokereader/lib/python3.10/site-packages/keras/src/backend/tensorflow/trainer.py\", line 104, in one_step_on_data\n\n  File \"/Users/estelle/.pyenv/versions/3.10.6/envs/project_pokereader/lib/python3.10/site-packages/keras/src/backend/tensorflow/trainer.py\", line 54, in train_step\n\n  File \"/Users/estelle/.pyenv/versions/3.10.6/envs/project_pokereader/lib/python3.10/site-packages/keras/src/trainers/trainer.py\", line 316, in compute_loss\n\n  File \"/Users/estelle/.pyenv/versions/3.10.6/envs/project_pokereader/lib/python3.10/site-packages/keras/src/trainers/compile_utils.py\", line 609, in __call__\n\n  File \"/Users/estelle/.pyenv/versions/3.10.6/envs/project_pokereader/lib/python3.10/site-packages/keras/src/trainers/compile_utils.py\", line 645, in call\n\n  File \"/Users/estelle/.pyenv/versions/3.10.6/envs/project_pokereader/lib/python3.10/site-packages/keras/src/losses/loss.py\", line 39, in __call__\n\n  File \"/Users/estelle/.pyenv/versions/3.10.6/envs/project_pokereader/lib/python3.10/site-packages/keras/src/tree/tree_api.py\", line 148, in map_structure\n\n  File \"/Users/estelle/.pyenv/versions/3.10.6/envs/project_pokereader/lib/python3.10/site-packages/keras/src/tree/optree_impl.py\", line 79, in map_structure\n\n  File \"/Users/estelle/.pyenv/versions/3.10.6/envs/project_pokereader/lib/python3.10/site-packages/optree/ops.py\", line 594, in tree_map\n\n  File \"/Users/estelle/.pyenv/versions/3.10.6/envs/project_pokereader/lib/python3.10/site-packages/keras/src/losses/loss.py\", line 40, in <lambda>\n\n  File \"/Users/estelle/.pyenv/versions/3.10.6/envs/project_pokereader/lib/python3.10/site-packages/keras/src/ops/core.py\", line 495, in convert_to_tensor\n\n  File \"/Users/estelle/.pyenv/versions/3.10.6/envs/project_pokereader/lib/python3.10/site-packages/keras/src/backend/tensorflow/core.py\", line 120, in convert_to_tensor\n\nCast string to float is not supported\n\t [[{{node compile_loss/sparse_categorical_crossentropy/Cast}}]] [Op:__inference_one_step_on_iterator_1832]"
     ]
    }
   ],
   "source": [
    "es = EarlyStopping(patience = 5, restore_best_weights=True)\n",
    "\n",
    "history = model_pipe.fit(XX_train, y_train,\n",
    "               epochs=100, # Use early stopping in practice\n",
    "               batch_size=32,\n",
    "               validation_data=(XX_val, y_val),\n",
    "               verbose=1)"
   ]
  },
  {
   "cell_type": "code",
   "execution_count": null,
   "metadata": {},
   "outputs": [],
   "source": []
  }
 ],
 "metadata": {
  "kernelspec": {
   "display_name": "Python 3 (ipykernel)",
   "language": "python",
   "name": "python3"
  },
  "language_info": {
   "codemirror_mode": {
    "name": "ipython",
    "version": 3
   },
   "file_extension": ".py",
   "mimetype": "text/x-python",
   "name": "python",
   "nbconvert_exporter": "python",
   "pygments_lexer": "ipython3",
   "version": "3.10.6"
  }
 },
 "nbformat": 4,
 "nbformat_minor": 4
}
